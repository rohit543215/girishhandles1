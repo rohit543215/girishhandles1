{
 "cells": [
  {
   "cell_type": "markdown",
   "id": "9d61fd7f-0255-4bbc-ad28-e9063ea6681d",
   "metadata": {
    "tags": []
   },
   "source": [
    "#\n",
    "Data Science tools and Ecosystem"
   ]
  },
  {
   "cell_type": "markdown",
   "id": "c7748dc3-ac49-447d-8261-b802992b5f09",
   "metadata": {},
   "source": [
    "In this notebook, Data Science Tools and Ecosystem are summarized."
   ]
  },
  {
   "cell_type": "markdown",
   "id": "17412d47-df4c-41fa-8808-723507471d3f",
   "metadata": {},
   "source": [
    "Objectives: \n",
    "    1.easy to use\n",
    "    2.free source\n",
    "    3.built-in libraries"
   ]
  },
  {
   "cell_type": "markdown",
   "id": "d2e608cf-6452-4f30-82ce-4c1209cd6ffd",
   "metadata": {},
   "source": [
    "Some of the popular languages that Data Scientists use are:\n",
    "1.python\n",
    "2.c++\n",
    "3.R"
   ]
  },
  {
   "cell_type": "markdown",
   "id": "a6868043-d266-441a-bf80-20fe5f10be70",
   "metadata": {},
   "source": [
    "Some of the commonly used libraries used by Data Scientists include:\n",
    "1.pandas\n",
    "2.matplotlib\n",
    "3.numpy"
   ]
  },
  {
   "cell_type": "markdown",
   "id": "561d73f1-71ef-4916-8017-89de645eb508",
   "metadata": {},
   "source": [
    "Data Science Tools\n",
    "1.tesnor flow\n",
    "2.apache hadoop\n",
    "3.apache spark"
   ]
  },
  {
   "cell_type": "markdown",
   "id": "4739384d-9757-40c5-8d68-a05c69f1108f",
   "metadata": {},
   "source": [
    "## Below are a few examples of evaluating arithmetic expressions in Python\n"
   ]
  },
  {
   "cell_type": "code",
   "execution_count": 1,
   "id": "2202fb89-9e4d-4d07-8fa5-5d9e502fd948",
   "metadata": {
    "tags": []
   },
   "outputs": [
    {
     "data": {
      "text/plain": [
       "17"
      ]
     },
     "execution_count": 1,
     "metadata": {},
     "output_type": "execute_result"
    }
   ],
   "source": [
    "#This a simple arithmetic expression to mutiply then add integers\n",
    "(3*4)+5"
   ]
  },
  {
   "cell_type": "code",
   "execution_count": 2,
   "id": "46477fff-55fd-469c-bb46-335480f7ef36",
   "metadata": {
    "tags": []
   },
   "outputs": [
    {
     "name": "stdout",
     "output_type": "stream",
     "text": [
      "3.3333333333333335\n"
     ]
    }
   ],
   "source": [
    "# This will convert 200 minutes to hours by diving by 60\n",
    "minutes=200\n",
    "hour=minutes/60\n",
    "print(hour)"
   ]
  },
  {
   "cell_type": "markdown",
   "id": "831ac6eb-dc58-4757-b8ea-af6a8bd662a8",
   "metadata": {},
   "source": [
    "## Author"
   ]
  },
  {
   "cell_type": "markdown",
   "id": "7faec421-606e-448a-83c0-2bec981bd9d1",
   "metadata": {},
   "source": [
    "Girish joshi"
   ]
  }
 ],
 "metadata": {
  "kernelspec": {
   "display_name": "Python 3 (ipykernel)",
   "language": "python",
   "name": "python3"
  },
  "language_info": {
   "codemirror_mode": {
    "name": "ipython",
    "version": 3
   },
   "file_extension": ".py",
   "mimetype": "text/x-python",
   "name": "python",
   "nbconvert_exporter": "python",
   "pygments_lexer": "ipython3",
   "version": "3.11.5"
  }
 },
 "nbformat": 4,
 "nbformat_minor": 5
}
