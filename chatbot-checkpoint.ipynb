{
 "cells": [
  {
   "cell_type": "code",
   "execution_count": 51,
   "id": "b9234a2c-2963-4971-8d22-163b08c08dbe",
   "metadata": {
    "tags": []
   },
   "outputs": [],
   "source": []
  },
  {
   "cell_type": "code",
   "execution_count": 52,
   "id": "6d3c9650-34c9-4318-8ceb-146434efe28e",
   "metadata": {
    "tags": []
   },
   "outputs": [],
   "source": []
  },
  {
   "cell_type": "code",
   "execution_count": null,
   "id": "2a6f0303-3acb-4c20-8c28-7705a7d6b793",
   "metadata": {
    "tags": []
   },
   "outputs": [],
   "source": []
  },
  {
   "cell_type": "code",
   "execution_count": 53,
   "id": "53722cb7-824d-4da7-9bdf-356859390893",
   "metadata": {
    "tags": []
   },
   "outputs": [
    {
     "name": "stderr",
     "output_type": "stream",
     "text": [
      "[nltk_data] Downloading package punkt to\n",
      "[nltk_data]     C:\\Users\\gj261\\AppData\\Roaming\\nltk_data...\n",
      "[nltk_data]   Package punkt is already up-to-date!\n",
      "[nltk_data] Downloading package wordnet to\n",
      "[nltk_data]     C:\\Users\\gj261\\AppData\\Roaming\\nltk_data...\n",
      "[nltk_data]   Package wordnet is already up-to-date!\n",
      "[nltk_data] Downloading package omw-1.4 to\n",
      "[nltk_data]     C:\\Users\\gj261\\AppData\\Roaming\\nltk_data...\n",
      "[nltk_data]   Package omw-1.4 is already up-to-date!\n"
     ]
    }
   ],
   "source": []
  },
  {
   "cell_type": "code",
   "execution_count": 54,
   "id": "5f44821e-3ccb-4813-8bc8-883df5e4cf0a",
   "metadata": {
    "tags": []
   },
   "outputs": [],
   "source": []
  },
  {
   "cell_type": "code",
   "execution_count": 55,
   "id": "8d31a30d-b5e5-4686-b870-7a6bb9d64e17",
   "metadata": {
    "tags": []
   },
   "outputs": [
    {
     "data": {
      "text/plain": [
       "['\\na chatbot (originally chatterbot)[1] is a software application or web interface that is designed to mimic human conversation through text or voice interactions.']"
      ]
     },
     "execution_count": 55,
     "metadata": {},
     "output_type": "execute_result"
    }
   ],
   "source": []
  },
  {
   "cell_type": "code",
   "execution_count": 56,
   "id": "c7413ebe-17ae-491f-bf32-ae5d44878e4a",
   "metadata": {
    "tags": []
   },
   "outputs": [
    {
     "data": {
      "text/plain": [
       "['a']"
      ]
     },
     "execution_count": 56,
     "metadata": {},
     "output_type": "execute_result"
    }
   ],
   "source": []
  },
  {
   "cell_type": "code",
   "execution_count": 57,
   "id": "cebe7f00-7634-4f83-9b6e-fbbc5d280b06",
   "metadata": {
    "tags": []
   },
   "outputs": [],
   "source": []
  },
  {
   "cell_type": "code",
   "execution_count": 58,
   "id": "60e009cb-d921-4eb0-80a6-82b165d70528",
   "metadata": {
    "tags": []
   },
   "outputs": [
    {
     "data": {
      "text/plain": [
       "['a', 'chatbot', '(', 'originally', 'chatterbot']"
      ]
     },
     "execution_count": 58,
     "metadata": {},
     "output_type": "execute_result"
    }
   ],
   "source": [
    "word_tokens[:5]"
   ]
  },
  {
   "cell_type": "code",
   "execution_count": 59,
   "id": "f924f78d-3953-4c31-9859-ff390058ceb4",
   "metadata": {
    "tags": []
   },
   "outputs": [],
   "source": []
  },
  {
   "cell_type": "code",
   "execution_count": 60,
   "id": "d6e9412c-06d1-4a72-b32d-e9aa0512362b",
   "metadata": {
    "tags": []
   },
   "outputs": [],
   "source": []
  },
  {
   "cell_type": "code",
   "execution_count": 61,
   "id": "b8441b9f-dff3-4017-a87b-89e5b3de0ce0",
   "metadata": {
    "tags": []
   },
   "outputs": [],
   "source": []
  },
  {
   "cell_type": "code",
   "execution_count": 62,
   "id": "bd46f2ea-1aae-4015-a3cc-3939d73a4991",
   "metadata": {
    "tags": []
   },
   "outputs": [
    {
     "name": "stderr",
     "output_type": "stream",
     "text": [
      "[nltk_data] Downloading package punkt to\n",
      "[nltk_data]     C:\\Users\\gj261\\AppData\\Roaming\\nltk_data...\n",
      "[nltk_data]   Package punkt is already up-to-date!\n"
     ]
    },
    {
     "name": "stdout",
     "output_type": "stream",
     "text": [
      "Hello! I am the Retrieval learning bot. Start typing your text after greeting to talk to me. To end the conversation, type 'bye'.\n"
     ]
    },
    {
     "name": "stdin",
     "output_type": "stream",
     "text": [
      " hi\n"
     ]
    },
    {
     "name": "stdout",
     "output_type": "stream",
     "text": [
      "Bot: Hello! How can I assist you?\n"
     ]
    },
    {
     "name": "stdin",
     "output_type": "stream",
     "text": [
      " Can you tell me about chatbot\n"
     ]
    },
    {
     "name": "stdout",
     "output_type": "stream",
     "text": [
      "Bot: I'm sorry, I didn't understand that.\n"
     ]
    },
    {
     "name": "stdin",
     "output_type": "stream",
     "text": [
      " Can you tell me about Chatbot\n"
     ]
    },
    {
     "name": "stdout",
     "output_type": "stream",
     "text": [
      "Bot: I'm sorry, I didn't understand that.\n"
     ]
    },
    {
     "name": "stdin",
     "output_type": "stream",
     "text": [
      " bye\n"
     ]
    },
    {
     "name": "stdout",
     "output_type": "stream",
     "text": [
      "Bot: Goodbye\n"
     ]
    }
   ],
   "source": []
  },
  {
   "cell_type": "code",
   "execution_count": 63,
   "id": "5d1c48cb-a1de-4028-9c1e-fb67e1d7f3af",
   "metadata": {
    "tags": []
   },
   "outputs": [
    {
     "name": "stderr",
     "output_type": "stream",
     "text": [
      "[nltk_data] Downloading package punkt to\n",
      "[nltk_data]     C:\\Users\\gj261\\AppData\\Roaming\\nltk_data...\n",
      "[nltk_data]   Package punkt is already up-to-date!\n",
      "[nltk_data] Downloading package wordnet to\n",
      "[nltk_data]     C:\\Users\\gj261\\AppData\\Roaming\\nltk_data...\n",
      "[nltk_data]   Package wordnet is already up-to-date!\n"
     ]
    },
    {
     "name": "stdout",
     "output_type": "stream",
     "text": [
      "Hello! I am the Retrieval learning bot. Start typing your text after greeting to talk to me. To end the conversation, type 'bye'.\n"
     ]
    },
    {
     "name": "stdin",
     "output_type": "stream",
     "text": [
      " hi\n"
     ]
    },
    {
     "name": "stdout",
     "output_type": "stream",
     "text": [
      "Bot: Hey!\n"
     ]
    },
    {
     "name": "stdin",
     "output_type": "stream",
     "text": [
      " can you tell me about chatbot\n"
     ]
    },
    {
     "name": "stderr",
     "output_type": "stream",
     "text": [
      "C:\\Users\\gj261\\anaconda3\\anaconda\\Lib\\site-packages\\sklearn\\feature_extraction\\text.py:525: UserWarning: The parameter 'token_pattern' will not be used since 'tokenizer' is not None'\n",
      "  warnings.warn(\n",
      "C:\\Users\\gj261\\anaconda3\\anaconda\\Lib\\site-packages\\sklearn\\feature_extraction\\text.py:408: UserWarning: Your stop_words may be inconsistent with your preprocessing. Tokenizing the stop words generated tokens ['ha', 'le', 'u', 'wa'] not in stop_words.\n",
      "  warnings.warn(\n"
     ]
    },
    {
     "name": "stdout",
     "output_type": "stream",
     "text": [
      "Bot: \"chatbots: security, privacy, data protection, and social aspects\".\n"
     ]
    },
    {
     "name": "stdin",
     "output_type": "stream",
     "text": [
      " tell me about background\n"
     ]
    },
    {
     "name": "stdout",
     "output_type": "stream",
     "text": [
      "Bot: \"chatbots: security, privacy, data protection, and social aspects\".\n"
     ]
    },
    {
     "name": "stdin",
     "output_type": "stream",
     "text": [
      "  can you tell me about background\n"
     ]
    },
    {
     "name": "stdout",
     "output_type": "stream",
     "text": [
      "Bot: \"chatbots: security, privacy, data protection, and social aspects\".\n"
     ]
    },
    {
     "name": "stdin",
     "output_type": "stream",
     "text": [
      " can you tell me about natural-language processing\n"
     ]
    },
    {
     "name": "stdout",
     "output_type": "stream",
     "text": [
      "Bot: \"chatbots: security, privacy, data protection, and social aspects\".\n"
     ]
    },
    {
     "name": "stdin",
     "output_type": "stream",
     "text": [
      " back ground\n"
     ]
    },
    {
     "name": "stdout",
     "output_type": "stream",
     "text": [
      "Bot: \"chatbots: security, privacy, data protection, and social aspects\".\n"
     ]
    },
    {
     "name": "stdin",
     "output_type": "stream",
     "text": [
      " Bot: \"chatbots: security, privacy, data protection, and social aspects\".  tell me about background Bot: \"chatbots: security, privacy, data protection, and social aspects\".   can you tell me about background Bot: \"chatbots: security, privacy, data protection, and social aspects\".  can you tell me about natural-language processing Bot: \"chatbots: security, privacy, data protection, and social aspects\".\n"
     ]
    },
    {
     "name": "stdout",
     "output_type": "stream",
     "text": [
      "Bot: \"chatbots: security, privacy, data protection, and social aspects\".\n"
     ]
    },
    {
     "name": "stdin",
     "output_type": "stream",
     "text": [
      " Jabberwacky \n"
     ]
    },
    {
     "name": "stdout",
     "output_type": "stream",
     "text": [
      "Bot: \"chatbots: security, privacy, data protection, and social aspects\".\n"
     ]
    },
    {
     "name": "stdin",
     "output_type": "stream",
     "text": [
      " what is  milky way\n"
     ]
    },
    {
     "name": "stdout",
     "output_type": "stream",
     "text": [
      "Bot: \"chatbots: security, privacy, data protection, and social aspects\".\n"
     ]
    },
    {
     "name": "stdin",
     "output_type": "stream",
     "text": [
      " bye\n"
     ]
    },
    {
     "name": "stdout",
     "output_type": "stream",
     "text": [
      "Bot: Goodbye\n"
     ]
    }
   ],
   "source": [
    "import nltk\n",
    "import string\n",
    "import random\n",
    "\n",
    "# Download NLTK resources\n",
    "nltk.download('punkt')\n",
    "nltk.download('wordnet')\n",
    "\n",
    "# Read data from file\n",
    "with open('data.txt', 'r', errors='ignore') as f:\n",
    "    raw_doc = f.read()\n",
    "\n",
    "# Preprocess text\n",
    "raw_doc = raw_doc.lower()\n",
    "sentence_tokens = nltk.sent_tokenize(raw_doc)\n",
    "word_tokens = nltk.word_tokenize(raw_doc)\n",
    "\n",
    "# Initialize WordNet Lemmatizer\n",
    "lemmer = nltk.stem.WordNetLemmatizer()\n",
    "\n",
    "# Function to lemmatize tokens\n",
    "def LemTokens(tokens):\n",
    "    return [lemmer.lemmatize(token) for token in tokens]\n",
    "\n",
    "# Function to normalize text\n",
    "def LemNormalize(text):\n",
    "    remove_punc_dict = dict((ord(punct), None) for punct in string.punctuation)\n",
    "    return LemTokens(nltk.word_tokenize(text.lower().translate(remove_punc_dict)))\n",
    "\n",
    "# Function to greet the user\n",
    "def greet(user_response):\n",
    "    if user_response in ['hello', 'hi', 'hey']:\n",
    "        return random.choice(['Hello!', 'Hi there!', 'Hey!'])\n",
    "\n",
    "# Function to generate a response\n",
    "def response(user_response):\n",
    "    robo1_response = ''\n",
    "    TfidfVec = TfidfVectorizer(tokenizer=LemNormalize, stop_words='english')\n",
    "    tfidf = TfidfVec.fit_transform(sentence_tokens)\n",
    "    vals = cosine_similarity(tfidf[-1], tfidf)\n",
    "    idx = vals.argsort()[0][-2]\n",
    "    flat = vals.flatten()\n",
    "    flat.sort()\n",
    "    req_tfidf = flat[-2]\n",
    "    if req_tfidf == 0:\n",
    "        robo1_response = robo1_response + \"I am sorry, I am unable to understand you!\"\n",
    "    else:\n",
    "        robo1_response = robo1_response + sentence_tokens[idx]\n",
    "    return robo1_response\n",
    "\n",
    "# Initialize variables\n",
    "flag = True\n",
    "\n",
    "print(\"Hello! I am the Retrieval learning bot. Start typing your text after greeting to talk to me. To end the conversation, type 'bye'.\")\n",
    "\n",
    "# Conversation loop\n",
    "while flag:\n",
    "    user_response = input().lower()\n",
    "    if user_response != 'bye':\n",
    "        if user_response in ['thank you', 'thanks']:\n",
    "            flag = False\n",
    "            print('Bot: You are welcome.')\n",
    "        else:\n",
    "            greeting = greet(user_response)\n",
    "            if greeting is not None:\n",
    "                print('Bot:', greeting)\n",
    "            else:\n",
    "                print('Bot:', response(user_response))\n",
    "    else:\n",
    "        flag = False\n",
    "        print('Bot: Goodbye')\n"
   ]
  },
  {
   "cell_type": "code",
   "execution_count": 13,
   "id": "f395c343-cbd3-452d-a428-3b7f5fa3dac1",
   "metadata": {
    "tags": []
   },
   "outputs": [],
   "source": [
    "import re\n",
    "import random"
   ]
  },
  {
   "cell_type": "code",
   "execution_count": 14,
   "id": "338029ac-f792-468e-9085-17dd98cfc3a7",
   "metadata": {
    "tags": []
   },
   "outputs": [
    {
     "name": "stdin",
     "output_type": "stream",
     "text": [
      "what is your name gdu\n",
      "hi gdu , i am rule-bot. will you help me learn about your planet?\n",
      " akjd\n",
      "Are there many humans like you quit\n"
     ]
    },
    {
     "name": "stdout",
     "output_type": "stream",
     "text": [
      "okay, have a nice day\n"
     ]
    }
   ],
   "source": [
    "class RuleBot:\n",
    "    ## potential negative response \n",
    "    negative_responses=(\"no\",\"nope\",\"nah\",\"not a chance\",\"naw\",\"sorry\")\n",
    "    ## Exit conversations\n",
    "    exit_commands=(\"quit\",\"pause\",\"goodbye\",\"bye\",\"later\")\n",
    "    ## random starter questions\n",
    "    random_questions=(\n",
    "    \"why wre you here\",\n",
    "    \"Are there many humans like you\",\n",
    "    \"what do you consume for sustenance?\",\n",
    "    \"is there intelligent life on this planet?\",\n",
    "    \"Does Earth have a leader\",\n",
    "    \"What planets have you verified \",\n",
    "    \"What technolgy do you have on this planet?\",\n",
    "    )\n",
    "    def __init__(self):\n",
    "        self.alienbabble={'describe_planet_intent': r'.*\\s*your planet',\n",
    "                         'answer_why_planet': r'why\\sare.*',\n",
    "                          'about_intellipat':r'.*\\s*intellipat',\n",
    "                          'about_session':r'.*\\s*session',\n",
    "                         }\n",
    "    def greet(self):\n",
    "            self.name=input('what is your name')\n",
    "            will_help=input(\n",
    "                f\"hi {self.name} , i am rule-bot. will you help me learn about your planet?\\n\" )\n",
    "            if will_help in self.negative_responses:\n",
    "                print(\"ok, have a nice r=earth day!\")\n",
    "                return\n",
    "            self.chat()\n",
    "         \n",
    "    def make_exit(self,reply):\n",
    "        for command in self.exit_commands:\n",
    "            if reply ==command:\n",
    "                print('okay, have a nice day')\n",
    "                return True\n",
    "    def chat(self):\n",
    "        reply=input(random.choice(self.random_questions)).lower()\n",
    "        while not self.make_exit(reply):\n",
    "            reply=input(self.match_reply(reply))\n",
    "            \n",
    "    def match_reply(self, reply):\n",
    "        for key, value in self.alienbabble.items():\n",
    "            intent=key\n",
    "            regex_pattern=value\n",
    "            found_match=re.match(regex_pattern,reply)\n",
    "            if found_match and intent ==\"describe_plenet_intent\":\n",
    "                return self.describe_planet_intent()\n",
    "            elif found_match and intent==\"answer_why_intent\":\n",
    "                return self.answer_why_intent()\n",
    "            elif found_match and intent==\"about_intellipat\":\n",
    "                return self.about_intellipat()\n",
    "            elif found_match and intent==\"about_session\":\n",
    "                return self.about_session()\n",
    "        if  not found_match:\n",
    "                return self.no_match_intent()\n",
    "    \n",
    "    \n",
    "    # def match_reply(self,reply):\n",
    "    #     for key, value in self.alienbabble.items():\n",
    "    #         intent=key\n",
    "    #         regex_pattern=value\n",
    "    #         found_match=re.match(regex_pattern,reply)\n",
    "    #         if found_match and intent ==\"describe_planet_intent\":\n",
    "    #             return self.describe_planet_intent()\n",
    "    #         elif found_match and intent==\"answer_why_intent\":\n",
    "    #             return self.answer_why_intent()\n",
    "    #         elif found_match and intent==\"about_intellipat\":\n",
    "    #             return self.about_intellipat()\n",
    "            \n",
    "     \n",
    "        \n",
    "    def describe_planet_intent(self):\n",
    "        responses=('my planet is utopia of diverse organisms and species.\\n'\n",
    "                  'i am from opidipus, the capital of the wayward galaxies .\\n')\n",
    "        return random.choice(responses)\n",
    "    \n",
    "    \n",
    "    def answer_why_intent(self):\n",
    "        responses=('i come in peace \\n','i am here to collect data on your planet and its inhabitants\\n',\n",
    "                  'i heard the coffee is good\\n')\n",
    "        return random.choice(responses)\n",
    "                \n",
    "                    \n",
    "    def about_intellipat(self):\n",
    "        responses=(\"intellipat is world's largest professional edicational company\\n\",\"intellipat will make you learn concepts in the way never you learnt before \",\n",
    "                  \"interesting. can you tell me more?\\n\",\"i see, how do you think?\\n\",\"why?\\n\",\n",
    "                  'how do you think i feel whenn you say that?\\n')\n",
    "        return (\"intellipat is great place to learn\\n\")\n",
    "    \n",
    "    def about_session(self):\n",
    "        responses=('Session is on 14th aug 2024 \\n','Session was cool!')\n",
    "        return random.choice(responses)\n",
    "    \n",
    "    def no_match_intent(self):\n",
    "        responses=(\"plearse tell me more.\\n\",'tell me more!\\n','why do you say that?\\n','i see. see can you elaborate',\n",
    "                   'interesting.can you tell me more?\\n','i see. how do you think?\\n','why?\\n',\n",
    "                   'how do you think i feel when  you  say that?\\nl'\n",
    "        )\n",
    "        return random.choice(responses)\n",
    "AlienBot=RuleBot()\n",
    "AlienBot.greet()\n",
    "    \n",
    "    "
   ]
  },
  {
   "cell_type": "code",
   "execution_count": null,
   "id": "faed41db-3608-450a-bd76-f73dc53017ec",
   "metadata": {},
   "outputs": [],
   "source": []
  }
 ],
 "metadata": {
  "kernelspec": {
   "display_name": "Python 3 (ipykernel)",
   "language": "python",
   "name": "python3"
  },
  "language_info": {
   "codemirror_mode": {
    "name": "ipython",
    "version": 3
   },
   "file_extension": ".py",
   "mimetype": "text/x-python",
   "name": "python",
   "nbconvert_exporter": "python",
   "pygments_lexer": "ipython3",
   "version": "3.11.5"
  }
 },
 "nbformat": 4,
 "nbformat_minor": 5
}
